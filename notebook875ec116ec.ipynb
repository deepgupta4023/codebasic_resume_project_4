{
 "cells": [
  {
   "cell_type": "code",
   "execution_count": 1,
   "id": "23f20b61",
   "metadata": {
    "_cell_guid": "b1076dfc-b9ad-4769-8c92-a6c4dae69d19",
    "_uuid": "8f2839f25d086af736a60e9eeb907d3b93b6e0e5",
    "execution": {
     "iopub.execute_input": "2025-02-24T09:09:15.872426Z",
     "iopub.status.busy": "2025-02-24T09:09:15.872066Z",
     "iopub.status.idle": "2025-02-24T09:09:17.339815Z",
     "shell.execute_reply": "2025-02-24T09:09:17.338236Z"
    },
    "papermill": {
     "duration": 1.480226,
     "end_time": "2025-02-24T09:09:17.343320",
     "exception": false,
     "start_time": "2025-02-24T09:09:15.863094",
     "status": "completed"
    },
    "tags": []
   },
   "outputs": [
    {
     "name": "stdout",
     "output_type": "stream",
     "text": [
      "/kaggle/input/playground-series-s5e2/sample_submission.csv\n",
      "/kaggle/input/playground-series-s5e2/train.csv\n",
      "/kaggle/input/playground-series-s5e2/test.csv\n",
      "/kaggle/input/playground-series-s5e2/training_extra.csv\n"
     ]
    }
   ],
   "source": [
    "# This Python 3 environment comes with many helpful analytics libraries installed\n",
    "# It is defined by the kaggle/python Docker image: https://github.com/kaggle/docker-python\n",
    "# For example, here's several helpful packages to load\n",
    "\n",
    "import numpy as np # linear algebra\n",
    "import pandas as pd # data processing, CSV file I/O (e.g. pd.read_csv)\n",
    "\n",
    "# Input data files are available in the read-only \"../input/\" directory\n",
    "# For example, running this (by clicking run or pressing Shift+Enter) will list all files under the input directory\n",
    "\n",
    "import os\n",
    "for dirname, _, filenames in os.walk('/kaggle/input'):\n",
    "    for filename in filenames:\n",
    "        print(os.path.join(dirname, filename))\n",
    "\n",
    "# You can write up to 20GB to the current directory (/kaggle/working/) that gets preserved as output when you create a version using \"Save & Run All\" \n",
    "# You can also write temporary files to /kaggle/temp/, but they won't be saved outside of the current session"
   ]
  },
  {
   "cell_type": "code",
   "execution_count": 2,
   "id": "02cd2bfc",
   "metadata": {
    "execution": {
     "iopub.execute_input": "2025-02-24T09:09:17.357436Z",
     "iopub.status.busy": "2025-02-24T09:09:17.356965Z",
     "iopub.status.idle": "2025-02-24T09:09:21.093320Z",
     "shell.execute_reply": "2025-02-24T09:09:21.091805Z"
    },
    "papermill": {
     "duration": 3.744793,
     "end_time": "2025-02-24T09:09:21.095061",
     "exception": false,
     "start_time": "2025-02-24T09:09:17.350268",
     "status": "completed"
    },
    "tags": []
   },
   "outputs": [],
   "source": [
    "import matplotlib.pyplot as plt\n",
    "import seaborn as sns\n",
    "from sklearn.model_selection import KFold, cross_val_score\n",
    "from sklearn.model_selection import StratifiedKFold\n",
    "from sklearn.model_selection import train_test_split\n",
    "from sklearn.linear_model import LinearRegression\n",
    "from sklearn.ensemble import RandomForestRegressor\n"
   ]
  },
  {
   "cell_type": "code",
   "execution_count": 3,
   "id": "273a2310",
   "metadata": {
    "execution": {
     "iopub.execute_input": "2025-02-24T09:09:21.109488Z",
     "iopub.status.busy": "2025-02-24T09:09:21.108988Z",
     "iopub.status.idle": "2025-02-24T09:09:21.113963Z",
     "shell.execute_reply": "2025-02-24T09:09:21.112149Z"
    },
    "papermill": {
     "duration": 0.015107,
     "end_time": "2025-02-24T09:09:21.116069",
     "exception": false,
     "start_time": "2025-02-24T09:09:21.100962",
     "status": "completed"
    },
    "tags": []
   },
   "outputs": [],
   "source": [
    "from sklearn.metrics import mean_squared_error\n",
    "from sklearn.ensemble import GradientBoostingRegressor"
   ]
  },
  {
   "cell_type": "code",
   "execution_count": null,
   "id": "c1965366",
   "metadata": {
    "papermill": {
     "duration": 0.006687,
     "end_time": "2025-02-24T09:09:21.128793",
     "exception": false,
     "start_time": "2025-02-24T09:09:21.122106",
     "status": "completed"
    },
    "tags": []
   },
   "outputs": [],
   "source": []
  },
  {
   "cell_type": "code",
   "execution_count": 4,
   "id": "96002c9d",
   "metadata": {
    "execution": {
     "iopub.execute_input": "2025-02-24T09:09:21.146153Z",
     "iopub.status.busy": "2025-02-24T09:09:21.145804Z",
     "iopub.status.idle": "2025-02-24T09:09:21.816586Z",
     "shell.execute_reply": "2025-02-24T09:09:21.815057Z"
    },
    "papermill": {
     "duration": 0.682213,
     "end_time": "2025-02-24T09:09:21.818193",
     "exception": false,
     "start_time": "2025-02-24T09:09:21.135980",
     "status": "completed"
    },
    "tags": []
   },
   "outputs": [
    {
     "data": {
      "text/html": [
       "<div>\n",
       "<style scoped>\n",
       "    .dataframe tbody tr th:only-of-type {\n",
       "        vertical-align: middle;\n",
       "    }\n",
       "\n",
       "    .dataframe tbody tr th {\n",
       "        vertical-align: top;\n",
       "    }\n",
       "\n",
       "    .dataframe thead th {\n",
       "        text-align: right;\n",
       "    }\n",
       "</style>\n",
       "<table border=\"1\" class=\"dataframe\">\n",
       "  <thead>\n",
       "    <tr style=\"text-align: right;\">\n",
       "      <th></th>\n",
       "      <th>Brand</th>\n",
       "      <th>Material</th>\n",
       "      <th>Size</th>\n",
       "      <th>Compartments</th>\n",
       "      <th>Laptop Compartment</th>\n",
       "      <th>Waterproof</th>\n",
       "      <th>Style</th>\n",
       "      <th>Color</th>\n",
       "      <th>Weight Capacity (kg)</th>\n",
       "      <th>Price</th>\n",
       "    </tr>\n",
       "    <tr>\n",
       "      <th>id</th>\n",
       "      <th></th>\n",
       "      <th></th>\n",
       "      <th></th>\n",
       "      <th></th>\n",
       "      <th></th>\n",
       "      <th></th>\n",
       "      <th></th>\n",
       "      <th></th>\n",
       "      <th></th>\n",
       "      <th></th>\n",
       "    </tr>\n",
       "  </thead>\n",
       "  <tbody>\n",
       "    <tr>\n",
       "      <th>0</th>\n",
       "      <td>Jansport</td>\n",
       "      <td>Leather</td>\n",
       "      <td>Medium</td>\n",
       "      <td>7.0</td>\n",
       "      <td>Yes</td>\n",
       "      <td>No</td>\n",
       "      <td>Tote</td>\n",
       "      <td>Black</td>\n",
       "      <td>11.611723</td>\n",
       "      <td>112.15875</td>\n",
       "    </tr>\n",
       "    <tr>\n",
       "      <th>1</th>\n",
       "      <td>Jansport</td>\n",
       "      <td>Canvas</td>\n",
       "      <td>Small</td>\n",
       "      <td>10.0</td>\n",
       "      <td>Yes</td>\n",
       "      <td>Yes</td>\n",
       "      <td>Messenger</td>\n",
       "      <td>Green</td>\n",
       "      <td>27.078537</td>\n",
       "      <td>68.88056</td>\n",
       "    </tr>\n",
       "    <tr>\n",
       "      <th>2</th>\n",
       "      <td>Under Armour</td>\n",
       "      <td>Leather</td>\n",
       "      <td>Small</td>\n",
       "      <td>2.0</td>\n",
       "      <td>Yes</td>\n",
       "      <td>No</td>\n",
       "      <td>Messenger</td>\n",
       "      <td>Red</td>\n",
       "      <td>16.643760</td>\n",
       "      <td>39.17320</td>\n",
       "    </tr>\n",
       "    <tr>\n",
       "      <th>3</th>\n",
       "      <td>Nike</td>\n",
       "      <td>Nylon</td>\n",
       "      <td>Small</td>\n",
       "      <td>8.0</td>\n",
       "      <td>Yes</td>\n",
       "      <td>No</td>\n",
       "      <td>Messenger</td>\n",
       "      <td>Green</td>\n",
       "      <td>12.937220</td>\n",
       "      <td>80.60793</td>\n",
       "    </tr>\n",
       "    <tr>\n",
       "      <th>4</th>\n",
       "      <td>Adidas</td>\n",
       "      <td>Canvas</td>\n",
       "      <td>Medium</td>\n",
       "      <td>1.0</td>\n",
       "      <td>Yes</td>\n",
       "      <td>Yes</td>\n",
       "      <td>Messenger</td>\n",
       "      <td>Green</td>\n",
       "      <td>17.749338</td>\n",
       "      <td>86.02312</td>\n",
       "    </tr>\n",
       "  </tbody>\n",
       "</table>\n",
       "</div>"
      ],
      "text/plain": [
       "           Brand Material    Size  Compartments Laptop Compartment Waterproof  \\\n",
       "id                                                                              \n",
       "0       Jansport  Leather  Medium           7.0                Yes         No   \n",
       "1       Jansport   Canvas   Small          10.0                Yes        Yes   \n",
       "2   Under Armour  Leather   Small           2.0                Yes         No   \n",
       "3           Nike    Nylon   Small           8.0                Yes         No   \n",
       "4         Adidas   Canvas  Medium           1.0                Yes        Yes   \n",
       "\n",
       "        Style  Color  Weight Capacity (kg)      Price  \n",
       "id                                                     \n",
       "0        Tote  Black             11.611723  112.15875  \n",
       "1   Messenger  Green             27.078537   68.88056  \n",
       "2   Messenger    Red             16.643760   39.17320  \n",
       "3   Messenger  Green             12.937220   80.60793  \n",
       "4   Messenger  Green             17.749338   86.02312  "
      ]
     },
     "execution_count": 4,
     "metadata": {},
     "output_type": "execute_result"
    }
   ],
   "source": [
    "train= pd.read_csv('/kaggle/input/playground-series-s5e2/train.csv', index_col='id')\n",
    "train.head()"
   ]
  },
  {
   "cell_type": "code",
   "execution_count": 5,
   "id": "24786c26",
   "metadata": {
    "execution": {
     "iopub.execute_input": "2025-02-24T09:09:21.831743Z",
     "iopub.status.busy": "2025-02-24T09:09:21.831328Z",
     "iopub.status.idle": "2025-02-24T09:09:28.387425Z",
     "shell.execute_reply": "2025-02-24T09:09:28.385648Z"
    },
    "papermill": {
     "duration": 6.564546,
     "end_time": "2025-02-24T09:09:28.389341",
     "exception": false,
     "start_time": "2025-02-24T09:09:21.824795",
     "status": "completed"
    },
    "tags": []
   },
   "outputs": [
    {
     "data": {
      "text/html": [
       "<div>\n",
       "<style scoped>\n",
       "    .dataframe tbody tr th:only-of-type {\n",
       "        vertical-align: middle;\n",
       "    }\n",
       "\n",
       "    .dataframe tbody tr th {\n",
       "        vertical-align: top;\n",
       "    }\n",
       "\n",
       "    .dataframe thead th {\n",
       "        text-align: right;\n",
       "    }\n",
       "</style>\n",
       "<table border=\"1\" class=\"dataframe\">\n",
       "  <thead>\n",
       "    <tr style=\"text-align: right;\">\n",
       "      <th></th>\n",
       "      <th>Brand</th>\n",
       "      <th>Material</th>\n",
       "      <th>Size</th>\n",
       "      <th>Compartments</th>\n",
       "      <th>Laptop Compartment</th>\n",
       "      <th>Waterproof</th>\n",
       "      <th>Style</th>\n",
       "      <th>Color</th>\n",
       "      <th>Weight Capacity (kg)</th>\n",
       "      <th>Price</th>\n",
       "    </tr>\n",
       "    <tr>\n",
       "      <th>id</th>\n",
       "      <th></th>\n",
       "      <th></th>\n",
       "      <th></th>\n",
       "      <th></th>\n",
       "      <th></th>\n",
       "      <th></th>\n",
       "      <th></th>\n",
       "      <th></th>\n",
       "      <th></th>\n",
       "      <th></th>\n",
       "    </tr>\n",
       "  </thead>\n",
       "  <tbody>\n",
       "    <tr>\n",
       "      <th>500000</th>\n",
       "      <td>Under Armour</td>\n",
       "      <td>Canvas</td>\n",
       "      <td>Small</td>\n",
       "      <td>10.0</td>\n",
       "      <td>Yes</td>\n",
       "      <td>Yes</td>\n",
       "      <td>Tote</td>\n",
       "      <td>Blue</td>\n",
       "      <td>23.882052</td>\n",
       "      <td>114.11068</td>\n",
       "    </tr>\n",
       "    <tr>\n",
       "      <th>500001</th>\n",
       "      <td>Puma</td>\n",
       "      <td>Polyester</td>\n",
       "      <td>Small</td>\n",
       "      <td>4.0</td>\n",
       "      <td>No</td>\n",
       "      <td>Yes</td>\n",
       "      <td>Backpack</td>\n",
       "      <td>Green</td>\n",
       "      <td>11.869095</td>\n",
       "      <td>129.74972</td>\n",
       "    </tr>\n",
       "    <tr>\n",
       "      <th>500002</th>\n",
       "      <td>Jansport</td>\n",
       "      <td>Polyester</td>\n",
       "      <td>Small</td>\n",
       "      <td>8.0</td>\n",
       "      <td>Yes</td>\n",
       "      <td>Yes</td>\n",
       "      <td>Tote</td>\n",
       "      <td>Red</td>\n",
       "      <td>8.092302</td>\n",
       "      <td>21.37370</td>\n",
       "    </tr>\n",
       "    <tr>\n",
       "      <th>500003</th>\n",
       "      <td>Nike</td>\n",
       "      <td>Nylon</td>\n",
       "      <td>Large</td>\n",
       "      <td>7.0</td>\n",
       "      <td>No</td>\n",
       "      <td>No</td>\n",
       "      <td>Messenger</td>\n",
       "      <td>Pink</td>\n",
       "      <td>7.719581</td>\n",
       "      <td>48.09209</td>\n",
       "    </tr>\n",
       "    <tr>\n",
       "      <th>500004</th>\n",
       "      <td>Nike</td>\n",
       "      <td>Leather</td>\n",
       "      <td>Large</td>\n",
       "      <td>9.0</td>\n",
       "      <td>No</td>\n",
       "      <td>Yes</td>\n",
       "      <td>Tote</td>\n",
       "      <td>Green</td>\n",
       "      <td>22.741826</td>\n",
       "      <td>77.32461</td>\n",
       "    </tr>\n",
       "  </tbody>\n",
       "</table>\n",
       "</div>"
      ],
      "text/plain": [
       "               Brand   Material   Size  Compartments Laptop Compartment  \\\n",
       "id                                                                        \n",
       "500000  Under Armour     Canvas  Small          10.0                Yes   \n",
       "500001          Puma  Polyester  Small           4.0                 No   \n",
       "500002      Jansport  Polyester  Small           8.0                Yes   \n",
       "500003          Nike      Nylon  Large           7.0                 No   \n",
       "500004          Nike    Leather  Large           9.0                 No   \n",
       "\n",
       "       Waterproof      Style  Color  Weight Capacity (kg)      Price  \n",
       "id                                                                    \n",
       "500000        Yes       Tote   Blue             23.882052  114.11068  \n",
       "500001        Yes   Backpack  Green             11.869095  129.74972  \n",
       "500002        Yes       Tote    Red              8.092302   21.37370  \n",
       "500003         No  Messenger   Pink              7.719581   48.09209  \n",
       "500004        Yes       Tote  Green             22.741826   77.32461  "
      ]
     },
     "execution_count": 5,
     "metadata": {},
     "output_type": "execute_result"
    }
   ],
   "source": [
    "train_extra= pd.read_csv('/kaggle/input/playground-series-s5e2/training_extra.csv',index_col='id')\n",
    "train_extra.head()"
   ]
  },
  {
   "cell_type": "code",
   "execution_count": 6,
   "id": "c9dec820",
   "metadata": {
    "execution": {
     "iopub.execute_input": "2025-02-24T09:09:28.405494Z",
     "iopub.status.busy": "2025-02-24T09:09:28.405117Z",
     "iopub.status.idle": "2025-02-24T09:09:28.670342Z",
     "shell.execute_reply": "2025-02-24T09:09:28.669161Z"
    },
    "papermill": {
     "duration": 0.275464,
     "end_time": "2025-02-24T09:09:28.672120",
     "exception": false,
     "start_time": "2025-02-24T09:09:28.396656",
     "status": "completed"
    },
    "tags": []
   },
   "outputs": [],
   "source": [
    "train= pd.concat([train, train_extra],ignore_index= True)"
   ]
  },
  {
   "cell_type": "code",
   "execution_count": 7,
   "id": "805c7cfc",
   "metadata": {
    "execution": {
     "iopub.execute_input": "2025-02-24T09:09:28.686030Z",
     "iopub.status.busy": "2025-02-24T09:09:28.685629Z",
     "iopub.status.idle": "2025-02-24T09:09:28.691963Z",
     "shell.execute_reply": "2025-02-24T09:09:28.690742Z"
    },
    "papermill": {
     "duration": 0.015407,
     "end_time": "2025-02-24T09:09:28.693715",
     "exception": false,
     "start_time": "2025-02-24T09:09:28.678308",
     "status": "completed"
    },
    "tags": []
   },
   "outputs": [
    {
     "data": {
      "text/plain": [
       "(3994318, 10)"
      ]
     },
     "execution_count": 7,
     "metadata": {},
     "output_type": "execute_result"
    }
   ],
   "source": [
    "train.shape"
   ]
  },
  {
   "cell_type": "code",
   "execution_count": 8,
   "id": "e116b7b7",
   "metadata": {
    "execution": {
     "iopub.execute_input": "2025-02-24T09:09:28.708344Z",
     "iopub.status.busy": "2025-02-24T09:09:28.708007Z",
     "iopub.status.idle": "2025-02-24T09:09:28.714298Z",
     "shell.execute_reply": "2025-02-24T09:09:28.713035Z"
    },
    "papermill": {
     "duration": 0.015926,
     "end_time": "2025-02-24T09:09:28.716300",
     "exception": false,
     "start_time": "2025-02-24T09:09:28.700374",
     "status": "completed"
    },
    "tags": []
   },
   "outputs": [
    {
     "data": {
      "text/plain": [
       "Index(['Brand', 'Material', 'Size', 'Compartments', 'Laptop Compartment',\n",
       "       'Waterproof', 'Style', 'Color', 'Weight Capacity (kg)', 'Price'],\n",
       "      dtype='object')"
      ]
     },
     "execution_count": 8,
     "metadata": {},
     "output_type": "execute_result"
    }
   ],
   "source": [
    "train.columns"
   ]
  },
  {
   "cell_type": "code",
   "execution_count": 9,
   "id": "910d4e36",
   "metadata": {
    "execution": {
     "iopub.execute_input": "2025-02-24T09:09:28.732046Z",
     "iopub.status.busy": "2025-02-24T09:09:28.731678Z",
     "iopub.status.idle": "2025-02-24T09:09:28.754173Z",
     "shell.execute_reply": "2025-02-24T09:09:28.753362Z"
    },
    "papermill": {
     "duration": 0.032351,
     "end_time": "2025-02-24T09:09:28.755988",
     "exception": false,
     "start_time": "2025-02-24T09:09:28.723637",
     "status": "completed"
    },
    "tags": []
   },
   "outputs": [
    {
     "data": {
      "text/html": [
       "<div>\n",
       "<style scoped>\n",
       "    .dataframe tbody tr th:only-of-type {\n",
       "        vertical-align: middle;\n",
       "    }\n",
       "\n",
       "    .dataframe tbody tr th {\n",
       "        vertical-align: top;\n",
       "    }\n",
       "\n",
       "    .dataframe thead th {\n",
       "        text-align: right;\n",
       "    }\n",
       "</style>\n",
       "<table border=\"1\" class=\"dataframe\">\n",
       "  <thead>\n",
       "    <tr style=\"text-align: right;\">\n",
       "      <th></th>\n",
       "      <th>Brand</th>\n",
       "      <th>Material</th>\n",
       "      <th>Size</th>\n",
       "      <th>Compartments</th>\n",
       "      <th>Laptop Compartment</th>\n",
       "      <th>Waterproof</th>\n",
       "      <th>Style</th>\n",
       "      <th>Color</th>\n",
       "      <th>Weight Capacity (kg)</th>\n",
       "      <th>Price</th>\n",
       "    </tr>\n",
       "  </thead>\n",
       "  <tbody>\n",
       "    <tr>\n",
       "      <th>0</th>\n",
       "      <td>Jansport</td>\n",
       "      <td>Leather</td>\n",
       "      <td>Medium</td>\n",
       "      <td>7.0</td>\n",
       "      <td>Yes</td>\n",
       "      <td>No</td>\n",
       "      <td>Tote</td>\n",
       "      <td>Black</td>\n",
       "      <td>11.611723</td>\n",
       "      <td>112.15875</td>\n",
       "    </tr>\n",
       "    <tr>\n",
       "      <th>1</th>\n",
       "      <td>Jansport</td>\n",
       "      <td>Canvas</td>\n",
       "      <td>Small</td>\n",
       "      <td>10.0</td>\n",
       "      <td>Yes</td>\n",
       "      <td>Yes</td>\n",
       "      <td>Messenger</td>\n",
       "      <td>Green</td>\n",
       "      <td>27.078537</td>\n",
       "      <td>68.88056</td>\n",
       "    </tr>\n",
       "    <tr>\n",
       "      <th>2</th>\n",
       "      <td>Under Armour</td>\n",
       "      <td>Leather</td>\n",
       "      <td>Small</td>\n",
       "      <td>2.0</td>\n",
       "      <td>Yes</td>\n",
       "      <td>No</td>\n",
       "      <td>Messenger</td>\n",
       "      <td>Red</td>\n",
       "      <td>16.643760</td>\n",
       "      <td>39.17320</td>\n",
       "    </tr>\n",
       "    <tr>\n",
       "      <th>3</th>\n",
       "      <td>Nike</td>\n",
       "      <td>Nylon</td>\n",
       "      <td>Small</td>\n",
       "      <td>8.0</td>\n",
       "      <td>Yes</td>\n",
       "      <td>No</td>\n",
       "      <td>Messenger</td>\n",
       "      <td>Green</td>\n",
       "      <td>12.937220</td>\n",
       "      <td>80.60793</td>\n",
       "    </tr>\n",
       "    <tr>\n",
       "      <th>4</th>\n",
       "      <td>Adidas</td>\n",
       "      <td>Canvas</td>\n",
       "      <td>Medium</td>\n",
       "      <td>1.0</td>\n",
       "      <td>Yes</td>\n",
       "      <td>Yes</td>\n",
       "      <td>Messenger</td>\n",
       "      <td>Green</td>\n",
       "      <td>17.749338</td>\n",
       "      <td>86.02312</td>\n",
       "    </tr>\n",
       "    <tr>\n",
       "      <th>...</th>\n",
       "      <td>...</td>\n",
       "      <td>...</td>\n",
       "      <td>...</td>\n",
       "      <td>...</td>\n",
       "      <td>...</td>\n",
       "      <td>...</td>\n",
       "      <td>...</td>\n",
       "      <td>...</td>\n",
       "      <td>...</td>\n",
       "      <td>...</td>\n",
       "    </tr>\n",
       "    <tr>\n",
       "      <th>3994313</th>\n",
       "      <td>Nike</td>\n",
       "      <td>Canvas</td>\n",
       "      <td>NaN</td>\n",
       "      <td>3.0</td>\n",
       "      <td>Yes</td>\n",
       "      <td>Yes</td>\n",
       "      <td>Messenger</td>\n",
       "      <td>Blue</td>\n",
       "      <td>28.098120</td>\n",
       "      <td>104.74460</td>\n",
       "    </tr>\n",
       "    <tr>\n",
       "      <th>3994314</th>\n",
       "      <td>Puma</td>\n",
       "      <td>Leather</td>\n",
       "      <td>Small</td>\n",
       "      <td>10.0</td>\n",
       "      <td>Yes</td>\n",
       "      <td>Yes</td>\n",
       "      <td>Tote</td>\n",
       "      <td>Blue</td>\n",
       "      <td>17.379531</td>\n",
       "      <td>122.39043</td>\n",
       "    </tr>\n",
       "    <tr>\n",
       "      <th>3994315</th>\n",
       "      <td>Jansport</td>\n",
       "      <td>Canvas</td>\n",
       "      <td>Large</td>\n",
       "      <td>10.0</td>\n",
       "      <td>No</td>\n",
       "      <td>No</td>\n",
       "      <td>Backpack</td>\n",
       "      <td>Red</td>\n",
       "      <td>17.037708</td>\n",
       "      <td>148.18470</td>\n",
       "    </tr>\n",
       "    <tr>\n",
       "      <th>3994316</th>\n",
       "      <td>Puma</td>\n",
       "      <td>Canvas</td>\n",
       "      <td>NaN</td>\n",
       "      <td>2.0</td>\n",
       "      <td>No</td>\n",
       "      <td>No</td>\n",
       "      <td>Backpack</td>\n",
       "      <td>Gray</td>\n",
       "      <td>28.783339</td>\n",
       "      <td>22.32269</td>\n",
       "    </tr>\n",
       "    <tr>\n",
       "      <th>3994317</th>\n",
       "      <td>Under Armour</td>\n",
       "      <td>Polyester</td>\n",
       "      <td>Medium</td>\n",
       "      <td>2.0</td>\n",
       "      <td>Yes</td>\n",
       "      <td>No</td>\n",
       "      <td>Backpack</td>\n",
       "      <td>Blue</td>\n",
       "      <td>23.076169</td>\n",
       "      <td>107.61199</td>\n",
       "    </tr>\n",
       "  </tbody>\n",
       "</table>\n",
       "<p>3994318 rows × 10 columns</p>\n",
       "</div>"
      ],
      "text/plain": [
       "                Brand   Material    Size  Compartments Laptop Compartment  \\\n",
       "0            Jansport    Leather  Medium           7.0                Yes   \n",
       "1            Jansport     Canvas   Small          10.0                Yes   \n",
       "2        Under Armour    Leather   Small           2.0                Yes   \n",
       "3                Nike      Nylon   Small           8.0                Yes   \n",
       "4              Adidas     Canvas  Medium           1.0                Yes   \n",
       "...               ...        ...     ...           ...                ...   \n",
       "3994313          Nike     Canvas     NaN           3.0                Yes   \n",
       "3994314          Puma    Leather   Small          10.0                Yes   \n",
       "3994315      Jansport     Canvas   Large          10.0                 No   \n",
       "3994316          Puma     Canvas     NaN           2.0                 No   \n",
       "3994317  Under Armour  Polyester  Medium           2.0                Yes   \n",
       "\n",
       "        Waterproof      Style  Color  Weight Capacity (kg)      Price  \n",
       "0               No       Tote  Black             11.611723  112.15875  \n",
       "1              Yes  Messenger  Green             27.078537   68.88056  \n",
       "2               No  Messenger    Red             16.643760   39.17320  \n",
       "3               No  Messenger  Green             12.937220   80.60793  \n",
       "4              Yes  Messenger  Green             17.749338   86.02312  \n",
       "...            ...        ...    ...                   ...        ...  \n",
       "3994313        Yes  Messenger   Blue             28.098120  104.74460  \n",
       "3994314        Yes       Tote   Blue             17.379531  122.39043  \n",
       "3994315         No   Backpack    Red             17.037708  148.18470  \n",
       "3994316         No   Backpack   Gray             28.783339   22.32269  \n",
       "3994317         No   Backpack   Blue             23.076169  107.61199  \n",
       "\n",
       "[3994318 rows x 10 columns]"
      ]
     },
     "execution_count": 9,
     "metadata": {},
     "output_type": "execute_result"
    }
   ],
   "source": [
    "train"
   ]
  },
  {
   "cell_type": "code",
   "execution_count": 10,
   "id": "24b0ef9f",
   "metadata": {
    "execution": {
     "iopub.execute_input": "2025-02-24T09:09:28.770600Z",
     "iopub.status.busy": "2025-02-24T09:09:28.770187Z",
     "iopub.status.idle": "2025-02-24T09:09:28.777940Z",
     "shell.execute_reply": "2025-02-24T09:09:28.776470Z"
    },
    "papermill": {
     "duration": 0.0167,
     "end_time": "2025-02-24T09:09:28.779329",
     "exception": false,
     "start_time": "2025-02-24T09:09:28.762629",
     "status": "completed"
    },
    "tags": []
   },
   "outputs": [
    {
     "data": {
      "text/plain": [
       "Brand                    object\n",
       "Material                 object\n",
       "Size                     object\n",
       "Compartments            float64\n",
       "Laptop Compartment       object\n",
       "Waterproof               object\n",
       "Style                    object\n",
       "Color                    object\n",
       "Weight Capacity (kg)    float64\n",
       "Price                   float64\n",
       "dtype: object"
      ]
     },
     "execution_count": 10,
     "metadata": {},
     "output_type": "execute_result"
    }
   ],
   "source": [
    "train.dtypes"
   ]
  },
  {
   "cell_type": "code",
   "execution_count": 11,
   "id": "87799197",
   "metadata": {
    "execution": {
     "iopub.execute_input": "2025-02-24T09:09:28.793792Z",
     "iopub.status.busy": "2025-02-24T09:09:28.793328Z",
     "iopub.status.idle": "2025-02-24T09:09:29.709953Z",
     "shell.execute_reply": "2025-02-24T09:09:29.708920Z"
    },
    "papermill": {
     "duration": 0.926165,
     "end_time": "2025-02-24T09:09:29.712168",
     "exception": false,
     "start_time": "2025-02-24T09:09:28.786003",
     "status": "completed"
    },
    "tags": []
   },
   "outputs": [
    {
     "data": {
      "text/plain": [
       "Brand                   126758\n",
       "Material                110962\n",
       "Size                     87785\n",
       "Compartments                 0\n",
       "Laptop Compartment       98533\n",
       "Waterproof               94324\n",
       "Style                   104180\n",
       "Color                   133617\n",
       "Weight Capacity (kg)      1808\n",
       "Price                        0\n",
       "dtype: int64"
      ]
     },
     "execution_count": 11,
     "metadata": {},
     "output_type": "execute_result"
    }
   ],
   "source": [
    "null_vals=train.isna().sum()\n",
    "null_vals"
   ]
  },
  {
   "cell_type": "code",
   "execution_count": 12,
   "id": "11cb8045",
   "metadata": {
    "execution": {
     "iopub.execute_input": "2025-02-24T09:09:29.727402Z",
     "iopub.status.busy": "2025-02-24T09:09:29.727015Z",
     "iopub.status.idle": "2025-02-24T09:09:29.731829Z",
     "shell.execute_reply": "2025-02-24T09:09:29.731094Z"
    },
    "papermill": {
     "duration": 0.014559,
     "end_time": "2025-02-24T09:09:29.733846",
     "exception": false,
     "start_time": "2025-02-24T09:09:29.719287",
     "status": "completed"
    },
    "tags": []
   },
   "outputs": [
    {
     "data": {
      "text/plain": [
       "10"
      ]
     },
     "execution_count": 12,
     "metadata": {},
     "output_type": "execute_result"
    }
   ],
   "source": [
    "null_vals.shape[0]"
   ]
  },
  {
   "cell_type": "code",
   "execution_count": 13,
   "id": "8e73216e",
   "metadata": {
    "execution": {
     "iopub.execute_input": "2025-02-24T09:09:29.749584Z",
     "iopub.status.busy": "2025-02-24T09:09:29.749179Z",
     "iopub.status.idle": "2025-02-24T09:09:29.755291Z",
     "shell.execute_reply": "2025-02-24T09:09:29.754409Z"
    },
    "papermill": {
     "duration": 0.015237,
     "end_time": "2025-02-24T09:09:29.756594",
     "exception": false,
     "start_time": "2025-02-24T09:09:29.741357",
     "status": "completed"
    },
    "tags": []
   },
   "outputs": [
    {
     "name": "stdout",
     "output_type": "stream",
     "text": [
      "Brand: Null percentage0.03173\n",
      "Material: Null percentage0.02778\n",
      "Size: Null percentage0.02198\n",
      "Compartments: Null percentage0.0\n",
      "Laptop Compartment: Null percentage0.02467\n",
      "Waterproof: Null percentage0.02361\n",
      "Style: Null percentage0.02608\n",
      "Color: Null percentage0.03345\n",
      "Weight Capacity (kg): Null percentage0.00045\n",
      "Price: Null percentage0.0\n"
     ]
    },
    {
     "name": "stderr",
     "output_type": "stream",
     "text": [
      "<ipython-input-13-dc3bbdc8e3e8>:3: FutureWarning: Series.__getitem__ treating keys as positions is deprecated. In a future version, integer keys will always be treated as labels (consistent with DataFrame behavior). To access a value by position, use `ser.iloc[pos]`\n",
      "  print(f\"{columns[i]}: Null percentage{round(null_vals[i]/train.shape[0],5)}\")\n"
     ]
    }
   ],
   "source": [
    "columns= train.columns\n",
    "for i in range(null_vals.shape[0]):\n",
    "    print(f\"{columns[i]}: Null percentage{round(null_vals[i]/train.shape[0],5)}\")"
   ]
  },
  {
   "cell_type": "code",
   "execution_count": 14,
   "id": "9eba216c",
   "metadata": {
    "execution": {
     "iopub.execute_input": "2025-02-24T09:09:29.773521Z",
     "iopub.status.busy": "2025-02-24T09:09:29.773096Z",
     "iopub.status.idle": "2025-02-24T09:09:29.781896Z",
     "shell.execute_reply": "2025-02-24T09:09:29.778061Z"
    },
    "papermill": {
     "duration": 0.019834,
     "end_time": "2025-02-24T09:09:29.784319",
     "exception": false,
     "start_time": "2025-02-24T09:09:29.764485",
     "status": "completed"
    },
    "tags": []
   },
   "outputs": [
    {
     "data": {
      "text/plain": [
       "Index(['Brand', 'Material', 'Size', 'Compartments', 'Laptop Compartment',\n",
       "       'Waterproof', 'Style', 'Color', 'Weight Capacity (kg)', 'Price'],\n",
       "      dtype='object')"
      ]
     },
     "execution_count": 14,
     "metadata": {},
     "output_type": "execute_result"
    }
   ],
   "source": [
    "columns"
   ]
  },
  {
   "cell_type": "code",
   "execution_count": 15,
   "id": "92445a69",
   "metadata": {
    "execution": {
     "iopub.execute_input": "2025-02-24T09:09:29.803112Z",
     "iopub.status.busy": "2025-02-24T09:09:29.802708Z",
     "iopub.status.idle": "2025-02-24T09:09:29.809925Z",
     "shell.execute_reply": "2025-02-24T09:09:29.808040Z"
    },
    "papermill": {
     "duration": 0.018896,
     "end_time": "2025-02-24T09:09:29.811811",
     "exception": false,
     "start_time": "2025-02-24T09:09:29.792915",
     "status": "completed"
    },
    "tags": []
   },
   "outputs": [],
   "source": [
    "def fill_na_values(train):\n",
    "    for col in ['Brand', 'Material', 'Size', 'Laptop Compartment','Waterproof', 'Style', 'Color']:\n",
    "        train[col] = train[col].fillna('Not Specified')\n",
    "    \n",
    "    for col in ['Weight Capacity (kg)','Compartments']:\n",
    "        train[col] = train[col].fillna(train[col].median())\n",
    "\n",
    "    return train"
   ]
  },
  {
   "cell_type": "code",
   "execution_count": 16,
   "id": "3913670d",
   "metadata": {
    "execution": {
     "iopub.execute_input": "2025-02-24T09:09:29.829067Z",
     "iopub.status.busy": "2025-02-24T09:09:29.828670Z",
     "iopub.status.idle": "2025-02-24T09:09:31.453806Z",
     "shell.execute_reply": "2025-02-24T09:09:31.452713Z"
    },
    "papermill": {
     "duration": 1.635851,
     "end_time": "2025-02-24T09:09:31.455715",
     "exception": false,
     "start_time": "2025-02-24T09:09:29.819864",
     "status": "completed"
    },
    "tags": []
   },
   "outputs": [],
   "source": [
    "train= fill_na_values(train)"
   ]
  },
  {
   "cell_type": "code",
   "execution_count": 17,
   "id": "e39ccacd",
   "metadata": {
    "execution": {
     "iopub.execute_input": "2025-02-24T09:09:31.474690Z",
     "iopub.status.busy": "2025-02-24T09:09:31.474334Z",
     "iopub.status.idle": "2025-02-24T09:09:31.502652Z",
     "shell.execute_reply": "2025-02-24T09:09:31.500807Z"
    },
    "papermill": {
     "duration": 0.040256,
     "end_time": "2025-02-24T09:09:31.505794",
     "exception": false,
     "start_time": "2025-02-24T09:09:31.465538",
     "status": "completed"
    },
    "tags": []
   },
   "outputs": [
    {
     "name": "stdout",
     "output_type": "stream",
     "text": [
      "<class 'pandas.core.frame.DataFrame'>\n",
      "RangeIndex: 3994318 entries, 0 to 3994317\n",
      "Data columns (total 10 columns):\n",
      " #   Column                Dtype  \n",
      "---  ------                -----  \n",
      " 0   Brand                 object \n",
      " 1   Material              object \n",
      " 2   Size                  object \n",
      " 3   Compartments          float64\n",
      " 4   Laptop Compartment    object \n",
      " 5   Waterproof            object \n",
      " 6   Style                 object \n",
      " 7   Color                 object \n",
      " 8   Weight Capacity (kg)  float64\n",
      " 9   Price                 float64\n",
      "dtypes: float64(3), object(7)\n",
      "memory usage: 304.7+ MB\n"
     ]
    }
   ],
   "source": [
    "train.info()"
   ]
  },
  {
   "cell_type": "code",
   "execution_count": 18,
   "id": "8c09e1b4",
   "metadata": {
    "execution": {
     "iopub.execute_input": "2025-02-24T09:09:31.522122Z",
     "iopub.status.busy": "2025-02-24T09:09:31.521770Z",
     "iopub.status.idle": "2025-02-24T09:09:32.013764Z",
     "shell.execute_reply": "2025-02-24T09:09:32.012429Z"
    },
    "papermill": {
     "duration": 0.502251,
     "end_time": "2025-02-24T09:09:32.015750",
     "exception": false,
     "start_time": "2025-02-24T09:09:31.513499",
     "status": "completed"
    },
    "tags": []
   },
   "outputs": [
    {
     "data": {
      "text/html": [
       "<div>\n",
       "<style scoped>\n",
       "    .dataframe tbody tr th:only-of-type {\n",
       "        vertical-align: middle;\n",
       "    }\n",
       "\n",
       "    .dataframe tbody tr th {\n",
       "        vertical-align: top;\n",
       "    }\n",
       "\n",
       "    .dataframe thead th {\n",
       "        text-align: right;\n",
       "    }\n",
       "</style>\n",
       "<table border=\"1\" class=\"dataframe\">\n",
       "  <thead>\n",
       "    <tr style=\"text-align: right;\">\n",
       "      <th></th>\n",
       "      <th>Compartments</th>\n",
       "      <th>Weight Capacity (kg)</th>\n",
       "      <th>Price</th>\n",
       "    </tr>\n",
       "  </thead>\n",
       "  <tbody>\n",
       "    <tr>\n",
       "      <th>count</th>\n",
       "      <td>3994318.00</td>\n",
       "      <td>3994318.00</td>\n",
       "      <td>3994318.00</td>\n",
       "    </tr>\n",
       "    <tr>\n",
       "      <th>mean</th>\n",
       "      <td>5.43</td>\n",
       "      <td>18.01</td>\n",
       "      <td>81.36</td>\n",
       "    </tr>\n",
       "    <tr>\n",
       "      <th>std</th>\n",
       "      <td>2.89</td>\n",
       "      <td>6.97</td>\n",
       "      <td>38.94</td>\n",
       "    </tr>\n",
       "    <tr>\n",
       "      <th>min</th>\n",
       "      <td>1.00</td>\n",
       "      <td>5.00</td>\n",
       "      <td>15.00</td>\n",
       "    </tr>\n",
       "    <tr>\n",
       "      <th>25%</th>\n",
       "      <td>3.00</td>\n",
       "      <td>12.07</td>\n",
       "      <td>47.47</td>\n",
       "    </tr>\n",
       "    <tr>\n",
       "      <th>50%</th>\n",
       "      <td>5.00</td>\n",
       "      <td>18.05</td>\n",
       "      <td>80.98</td>\n",
       "    </tr>\n",
       "    <tr>\n",
       "      <th>75%</th>\n",
       "      <td>8.00</td>\n",
       "      <td>23.99</td>\n",
       "      <td>114.86</td>\n",
       "    </tr>\n",
       "    <tr>\n",
       "      <th>max</th>\n",
       "      <td>10.00</td>\n",
       "      <td>30.00</td>\n",
       "      <td>150.00</td>\n",
       "    </tr>\n",
       "  </tbody>\n",
       "</table>\n",
       "</div>"
      ],
      "text/plain": [
       "       Compartments  Weight Capacity (kg)      Price\n",
       "count    3994318.00            3994318.00 3994318.00\n",
       "mean           5.43                 18.01      81.36\n",
       "std            2.89                  6.97      38.94\n",
       "min            1.00                  5.00      15.00\n",
       "25%            3.00                 12.07      47.47\n",
       "50%            5.00                 18.05      80.98\n",
       "75%            8.00                 23.99     114.86\n",
       "max           10.00                 30.00     150.00"
      ]
     },
     "execution_count": 18,
     "metadata": {},
     "output_type": "execute_result"
    }
   ],
   "source": [
    "pd.options.display.float_format = '{:.2f}'.format\n",
    "train.describe()"
   ]
  },
  {
   "cell_type": "code",
   "execution_count": 19,
   "id": "56215102",
   "metadata": {
    "execution": {
     "iopub.execute_input": "2025-02-24T09:09:32.031262Z",
     "iopub.status.busy": "2025-02-24T09:09:32.030957Z",
     "iopub.status.idle": "2025-02-24T09:09:33.440624Z",
     "shell.execute_reply": "2025-02-24T09:09:33.439168Z"
    },
    "papermill": {
     "duration": 1.418932,
     "end_time": "2025-02-24T09:09:33.442198",
     "exception": false,
     "start_time": "2025-02-24T09:09:32.023266",
     "status": "completed"
    },
    "tags": []
   },
   "outputs": [
    {
     "name": "stdout",
     "output_type": "stream",
     "text": [
      "Brand\n",
      "Under Armour     801035\n",
      "Adidas           797000\n",
      "Nike             764407\n",
      "Puma             755778\n",
      "Jansport         749340\n",
      "Not Specified    126758\n",
      "Name: count, dtype: int64 \n",
      "\n",
      "\n",
      "Material\n",
      "Polyester        1060882\n",
      "Leather           976186\n",
      "Nylon             942656\n",
      "Canvas            903632\n",
      "Not Specified     110962\n",
      "Name: count, dtype: int64 \n",
      "\n",
      "\n",
      "Size\n",
      "Medium           1354487\n",
      "Large            1312295\n",
      "Small            1239751\n",
      "Not Specified      87785\n",
      "Name: count, dtype: int64 \n",
      "\n",
      "\n",
      "Laptop Compartment\n",
      "Yes              1972937\n",
      "No               1922848\n",
      "Not Specified      98533\n",
      "Name: count, dtype: int64 \n",
      "\n",
      "\n",
      "Waterproof\n",
      "Yes              1969205\n",
      "No               1930789\n",
      "Not Specified      94324\n",
      "Name: count, dtype: int64 \n",
      "\n",
      "\n",
      "Style\n",
      "Messenger        1329677\n",
      "Tote             1297942\n",
      "Backpack         1262519\n",
      "Not Specified     104180\n",
      "Name: count, dtype: int64 \n",
      "\n",
      "\n",
      "Color\n",
      "Pink             688257\n",
      "Gray             666110\n",
      "Blue             638485\n",
      "Red              630215\n",
      "Black            620610\n",
      "Green            617024\n",
      "Not Specified    133617\n",
      "Name: count, dtype: int64 \n",
      "\n",
      "\n"
     ]
    }
   ],
   "source": [
    "for col in columns:\n",
    "    if train[col].dtype=='object':\n",
    "        print(train[col].value_counts(),'\\n\\n')\n",
    "        "
   ]
  },
  {
   "cell_type": "code",
   "execution_count": 20,
   "id": "52cdd961",
   "metadata": {
    "execution": {
     "iopub.execute_input": "2025-02-24T09:09:33.462391Z",
     "iopub.status.busy": "2025-02-24T09:09:33.462049Z",
     "iopub.status.idle": "2025-02-24T09:09:43.696757Z",
     "shell.execute_reply": "2025-02-24T09:09:43.695685Z"
    },
    "papermill": {
     "duration": 10.246029,
     "end_time": "2025-02-24T09:09:43.698220",
     "exception": false,
     "start_time": "2025-02-24T09:09:33.452191",
     "status": "completed"
    },
    "tags": []
   },
   "outputs": [
    {
     "data": {
      "image/png": "[encoded data removed]",
      "text/plain": [
       "<Figure size 640x480 with 1 Axes>"
      ]
     },
     "metadata": {},
     "output_type": "display_data"
    },
    {
     "data": {
      "image/png": "[encoded data removed]",
      "text/plain": [
       "<Figure size 640x480 with 1 Axes>"
      ]
     },
     "metadata": {},
     "output_type": "display_data"
    },
    {
     "data": {
      "image/png": "[encoded data removed]",
      "text/plain": [
       "<Figure size 640x480 with 1 Axes>"
      ]
     },
     "metadata": {},
     "output_type": "display_data"
    },
    {
     "data": {
      "image/png": "[encoded data removed]",
      "text/plain": [
       "<Figure size 640x480 with 1 Axes>"
      ]
     },
     "metadata": {},
     "output_type": "display_data"
    },
    {
     "data": {
      "image/png": "[encoded data removed]",
      "text/plain": [
       "<Figure size 640x480 with 1 Axes>"
      ]
     },
     "metadata": {},
     "output_type": "display_data"
    },
    {
     "data": {
      "image/png": "[encoded data removed]",
      "text/plain": [
       "<Figure size 640x480 with 1 Axes>"
      ]
     },
     "metadata": {},
     "output_type": "display_data"
    },
    {
     "data": {
      "image/png": "[encoded data removed]",
      "text/plain": [
       "<Figure size 640x480 with 1 Axes>"
      ]
     },
     "metadata": {},
     "output_type": "display_data"
    }
   ],
   "source": [
    "for col in train.columns:\n",
    "    if train[col].dtype =='object':\n",
    "        sns.boxplot(x=col, y=\"Price\", data=train)\n",
    "        plt.title(\"Price by category\")\n",
    "        plt.show()"
   ]
  },
  {
   "cell_type": "code",
   "execution_count": 21,
   "id": "8e857c96",
   "metadata": {
    "execution": {
     "iopub.execute_input": "2025-02-24T09:09:43.718709Z",
     "iopub.status.busy": "2025-02-24T09:09:43.718347Z",
     "iopub.status.idle": "2025-02-24T09:09:43.884648Z",
     "shell.execute_reply": "2025-02-24T09:09:43.883719Z"
    },
    "papermill": {
     "duration": 0.178131,
     "end_time": "2025-02-24T09:09:43.886226",
     "exception": false,
     "start_time": "2025-02-24T09:09:43.708095",
     "status": "completed"
    },
    "tags": []
   },
   "outputs": [
    {
     "data": {
      "text/html": [
       "<div>\n",
       "<style scoped>\n",
       "    .dataframe tbody tr th:only-of-type {\n",
       "        vertical-align: middle;\n",
       "    }\n",
       "\n",
       "    .dataframe tbody tr th {\n",
       "        vertical-align: top;\n",
       "    }\n",
       "\n",
       "    .dataframe thead th {\n",
       "        text-align: right;\n",
       "    }\n",
       "</style>\n",
       "<table border=\"1\" class=\"dataframe\">\n",
       "  <thead>\n",
       "    <tr style=\"text-align: right;\">\n",
       "      <th></th>\n",
       "      <th>Compartments</th>\n",
       "      <th>Weight Capacity (kg)</th>\n",
       "      <th>Price</th>\n",
       "    </tr>\n",
       "  </thead>\n",
       "  <tbody>\n",
       "    <tr>\n",
       "      <th>Compartments</th>\n",
       "      <td>1.00</td>\n",
       "      <td>0.00</td>\n",
       "      <td>-0.00</td>\n",
       "    </tr>\n",
       "    <tr>\n",
       "      <th>Weight Capacity (kg)</th>\n",
       "      <td>0.00</td>\n",
       "      <td>1.00</td>\n",
       "      <td>0.02</td>\n",
       "    </tr>\n",
       "    <tr>\n",
       "      <th>Price</th>\n",
       "      <td>-0.00</td>\n",
       "      <td>0.02</td>\n",
       "      <td>1.00</td>\n",
       "    </tr>\n",
       "  </tbody>\n",
       "</table>\n",
       "</div>"
      ],
      "text/plain": [
       "                      Compartments  Weight Capacity (kg)  Price\n",
       "Compartments                  1.00                  0.00  -0.00\n",
       "Weight Capacity (kg)          0.00                  1.00   0.02\n",
       "Price                        -0.00                  0.02   1.00"
      ]
     },
     "execution_count": 21,
     "metadata": {},
     "output_type": "execute_result"
    }
   ],
   "source": [
    "num_cols= [col for col in train.columns if train[col].dtype=='float64']\n",
    "train[num_cols].corr()"
   ]
  },
  {
   "cell_type": "code",
   "execution_count": 22,
   "id": "79ebb51b",
   "metadata": {
    "execution": {
     "iopub.execute_input": "2025-02-24T09:09:43.911324Z",
     "iopub.status.busy": "2025-02-24T09:09:43.910988Z",
     "iopub.status.idle": "2025-02-24T09:09:43.916336Z",
     "shell.execute_reply": "2025-02-24T09:09:43.915487Z"
    },
    "papermill": {
     "duration": 0.017041,
     "end_time": "2025-02-24T09:09:43.917799",
     "exception": false,
     "start_time": "2025-02-24T09:09:43.900758",
     "status": "completed"
    },
    "tags": []
   },
   "outputs": [
    {
     "data": {
      "text/plain": [
       "Index(['Brand', 'Material', 'Size', 'Compartments', 'Laptop Compartment',\n",
       "       'Waterproof', 'Style', 'Color', 'Weight Capacity (kg)', 'Price'],\n",
       "      dtype='object')"
      ]
     },
     "execution_count": 22,
     "metadata": {},
     "output_type": "execute_result"
    }
   ],
   "source": [
    "columns"
   ]
  },
  {
   "cell_type": "code",
   "execution_count": 23,
   "id": "53c001a4",
   "metadata": {
    "execution": {
     "iopub.execute_input": "2025-02-24T09:09:43.938368Z",
     "iopub.status.busy": "2025-02-24T09:09:43.938065Z",
     "iopub.status.idle": "2025-02-24T09:09:44.138389Z",
     "shell.execute_reply": "2025-02-24T09:09:44.137176Z"
    },
    "papermill": {
     "duration": 0.212637,
     "end_time": "2025-02-24T09:09:44.140325",
     "exception": false,
     "start_time": "2025-02-24T09:09:43.927688",
     "status": "completed"
    },
    "tags": []
   },
   "outputs": [
    {
     "data": {
      "text/plain": [
       "Size\n",
       "Medium           1354487\n",
       "Large            1312295\n",
       "Small            1239751\n",
       "Not Specified      87785\n",
       "Name: count, dtype: int64"
      ]
     },
     "execution_count": 23,
     "metadata": {},
     "output_type": "execute_result"
    }
   ],
   "source": [
    "train['Size'].value_counts()"
   ]
  },
  {
   "cell_type": "code",
   "execution_count": null,
   "id": "b702a9ca",
   "metadata": {
    "papermill": {
     "duration": 0.00934,
     "end_time": "2025-02-24T09:09:44.160432",
     "exception": false,
     "start_time": "2025-02-24T09:09:44.151092",
     "status": "completed"
    },
    "tags": []
   },
   "outputs": [],
   "source": []
  },
  {
   "cell_type": "code",
   "execution_count": 24,
   "id": "4c1645d6",
   "metadata": {
    "execution": {
     "iopub.execute_input": "2025-02-24T09:09:44.183207Z",
     "iopub.status.busy": "2025-02-24T09:09:44.182776Z",
     "iopub.status.idle": "2025-02-24T09:09:44.188526Z",
     "shell.execute_reply": "2025-02-24T09:09:44.187820Z"
    },
    "papermill": {
     "duration": 0.020323,
     "end_time": "2025-02-24T09:09:44.190343",
     "exception": false,
     "start_time": "2025-02-24T09:09:44.170020",
     "status": "completed"
    },
    "tags": []
   },
   "outputs": [],
   "source": [
    "def encode_cat_cols(train):\n",
    "    # Encode Size\n",
    "    size_map={\n",
    "        \"Medium\":3,           \n",
    "        \"Large\":4,        \n",
    "        \"Small\":2,   \n",
    "        \"Not Specified\":1\n",
    "    }\n",
    "    \n",
    "    train['Size']=  train['Size'].map(size_map)\n",
    "\n",
    "    # Encode Laptop Compartment\n",
    "    lc_map= {\n",
    "        \"Yes\":1,\n",
    "        \"No\":0,\n",
    "        \"Not Specified\":0\n",
    "    }\n",
    "    train['Laptop Compartment']=  train['Laptop Compartment'].map(lc_map)\n",
    "\n",
    "    #Encode Watrtproof\n",
    "    train['Waterproof']=  train['Waterproof'].map(lc_map)\n",
    "    \n",
    "    \n",
    "    cat_cols= ['Brand', 'Material', 'Style', 'Color']\n",
    "    for col in cat_cols:\n",
    "        dummies = pd.get_dummies(train[col])\n",
    "        if 'Not Specified' in dummies.columns:\n",
    "            dummies= dummies.drop(['Not Specified'], axis='columns')\n",
    "        train= pd.concat([train,dummies],axis='columns')\n",
    "        train= train.drop([col], axis='columns')\n",
    "\n",
    "    return train"
   ]
  },
  {
   "cell_type": "code",
   "execution_count": 25,
   "id": "2c45a21a",
   "metadata": {
    "execution": {
     "iopub.execute_input": "2025-02-24T09:09:44.212475Z",
     "iopub.status.busy": "2025-02-24T09:09:44.212140Z",
     "iopub.status.idle": "2025-02-24T09:09:47.328945Z",
     "shell.execute_reply": "2025-02-24T09:09:47.327316Z"
    },
    "papermill": {
     "duration": 3.129715,
     "end_time": "2025-02-24T09:09:47.330999",
     "exception": false,
     "start_time": "2025-02-24T09:09:44.201284",
     "status": "completed"
    },
    "tags": []
   },
   "outputs": [],
   "source": [
    "train= encode_cat_cols(train)"
   ]
  },
  {
   "cell_type": "code",
   "execution_count": 26,
   "id": "9cc9b169",
   "metadata": {
    "execution": {
     "iopub.execute_input": "2025-02-24T09:09:47.356665Z",
     "iopub.status.busy": "2025-02-24T09:09:47.356265Z",
     "iopub.status.idle": "2025-02-24T09:09:47.364220Z",
     "shell.execute_reply": "2025-02-24T09:09:47.362991Z"
    },
    "papermill": {
     "duration": 0.024246,
     "end_time": "2025-02-24T09:09:47.366212",
     "exception": false,
     "start_time": "2025-02-24T09:09:47.341966",
     "status": "completed"
    },
    "tags": []
   },
   "outputs": [
    {
     "data": {
      "text/plain": [
       "Size                      int64\n",
       "Compartments            float64\n",
       "Laptop Compartment        int64\n",
       "Waterproof                int64\n",
       "Weight Capacity (kg)    float64\n",
       "Price                   float64\n",
       "Adidas                     bool\n",
       "Jansport                   bool\n",
       "Nike                       bool\n",
       "Puma                       bool\n",
       "Under Armour               bool\n",
       "Canvas                     bool\n",
       "Leather                    bool\n",
       "Nylon                      bool\n",
       "Polyester                  bool\n",
       "Backpack                   bool\n",
       "Messenger                  bool\n",
       "Tote                       bool\n",
       "Black                      bool\n",
       "Blue                       bool\n",
       "Gray                       bool\n",
       "Green                      bool\n",
       "Pink                       bool\n",
       "Red                        bool\n",
       "dtype: object"
      ]
     },
     "execution_count": 26,
     "metadata": {},
     "output_type": "execute_result"
    }
   ],
   "source": [
    "train.dtypes"
   ]
  },
  {
   "cell_type": "code",
   "execution_count": 27,
   "id": "41e7c267",
   "metadata": {
    "execution": {
     "iopub.execute_input": "2025-02-24T09:09:47.389577Z",
     "iopub.status.busy": "2025-02-24T09:09:47.389116Z",
     "iopub.status.idle": "2025-02-24T09:09:47.467692Z",
     "shell.execute_reply": "2025-02-24T09:09:47.466782Z"
    },
    "papermill": {
     "duration": 0.092883,
     "end_time": "2025-02-24T09:09:47.469494",
     "exception": false,
     "start_time": "2025-02-24T09:09:47.376611",
     "status": "completed"
    },
    "tags": []
   },
   "outputs": [],
   "source": [
    "X= train.drop('Price',axis='columns')\n",
    "Y= train.Price"
   ]
  },
  {
   "cell_type": "code",
   "execution_count": null,
   "id": "40228637",
   "metadata": {
    "papermill": {
     "duration": 0.009646,
     "end_time": "2025-02-24T09:09:47.491900",
     "exception": false,
     "start_time": "2025-02-24T09:09:47.482254",
     "status": "completed"
    },
    "tags": []
   },
   "outputs": [],
   "source": []
  },
  {
   "cell_type": "code",
   "execution_count": 28,
   "id": "a9d91bf3",
   "metadata": {
    "execution": {
     "iopub.execute_input": "2025-02-24T09:09:47.517538Z",
     "iopub.status.busy": "2025-02-24T09:09:47.517191Z",
     "iopub.status.idle": "2025-02-24T09:09:47.524513Z",
     "shell.execute_reply": "2025-02-24T09:09:47.523254Z"
    },
    "papermill": {
     "duration": 0.021876,
     "end_time": "2025-02-24T09:09:47.526238",
     "exception": false,
     "start_time": "2025-02-24T09:09:47.504362",
     "status": "completed"
    },
    "tags": []
   },
   "outputs": [
    {
     "data": {
      "text/plain": [
       "Size                      int64\n",
       "Compartments            float64\n",
       "Laptop Compartment        int64\n",
       "Waterproof                int64\n",
       "Weight Capacity (kg)    float64\n",
       "Adidas                     bool\n",
       "Jansport                   bool\n",
       "Nike                       bool\n",
       "Puma                       bool\n",
       "Under Armour               bool\n",
       "Canvas                     bool\n",
       "Leather                    bool\n",
       "Nylon                      bool\n",
       "Polyester                  bool\n",
       "Backpack                   bool\n",
       "Messenger                  bool\n",
       "Tote                       bool\n",
       "Black                      bool\n",
       "Blue                       bool\n",
       "Gray                       bool\n",
       "Green                      bool\n",
       "Pink                       bool\n",
       "Red                        bool\n",
       "dtype: object"
      ]
     },
     "execution_count": 28,
     "metadata": {},
     "output_type": "execute_result"
    }
   ],
   "source": [
    "X.dtypes"
   ]
  },
  {
   "cell_type": "code",
   "execution_count": 29,
   "id": "1683cbf4",
   "metadata": {
    "execution": {
     "iopub.execute_input": "2025-02-24T09:09:47.550756Z",
     "iopub.status.busy": "2025-02-24T09:09:47.550370Z",
     "iopub.status.idle": "2025-02-24T09:09:47.555872Z",
     "shell.execute_reply": "2025-02-24T09:09:47.554538Z"
    },
    "papermill": {
     "duration": 0.020731,
     "end_time": "2025-02-24T09:09:47.557647",
     "exception": false,
     "start_time": "2025-02-24T09:09:47.536916",
     "status": "completed"
    },
    "tags": []
   },
   "outputs": [],
   "source": [
    "def check_model(model_name):\n",
    "    # Initialize KFold with 5 splits\n",
    "    kf = KFold(n_splits=5, shuffle=True, random_state=42)\n",
    "    \n",
    "    # Create a regression model\n",
    "    model = model_name\n",
    "    \n",
    "    # Evaluate the model using negative mean squared error as the scoring metric\n",
    "    scores = cross_val_score(model, X, Y, cv=kf, scoring='mean_squared_error')\n",
    "    \n",
    "    print(\"K-Fold CV Scores (Negative MSE):\", scores)\n",
    "    print(\"Average Score:\", np.mean(scores))\n",
    "    "
   ]
  },
  {
   "cell_type": "code",
   "execution_count": 30,
   "id": "adc44dfd",
   "metadata": {
    "execution": {
     "iopub.execute_input": "2025-02-24T09:09:47.578678Z",
     "iopub.status.busy": "2025-02-24T09:09:47.578313Z",
     "iopub.status.idle": "2025-02-24T09:37:04.563872Z",
     "shell.execute_reply": "2025-02-24T09:37:04.561679Z"
    },
    "papermill": {
     "duration": 1637.012228,
     "end_time": "2025-02-24T09:37:04.580050",
     "exception": false,
     "start_time": "2025-02-24T09:09:47.567822",
     "status": "completed"
    },
    "tags": []
   },
   "outputs": [
    {
     "data": {
      "text/html": [
       "<style>#sk-container-id-1 {color: black;background-color: white;}#sk-container-id-1 pre{padding: 0;}#sk-container-id-1 div.sk-toggleable {background-color: white;}#sk-container-id-1 label.sk-toggleable__label {cursor: pointer;display: block;width: 100%;margin-bottom: 0;padding: 0.3em;box-sizing: border-box;text-align: center;}#sk-container-id-1 label.sk-toggleable__label-arrow:before {content: \"▸\";float: left;margin-right: 0.25em;color: #696969;}#sk-container-id-1 label.sk-toggleable__label-arrow:hover:before {color: black;}#sk-container-id-1 div.sk-estimator:hover label.sk-toggleable__label-arrow:before {color: black;}#sk-container-id-1 div.sk-toggleable__content {max-height: 0;max-width: 0;overflow: hidden;text-align: left;background-color: #f0f8ff;}#sk-container-id-1 div.sk-toggleable__content pre {margin: 0.2em;color: black;border-radius: 0.25em;background-color: #f0f8ff;}#sk-container-id-1 input.sk-toggleable__control:checked~div.sk-toggleable__content {max-height: 200px;max-width: 100%;overflow: auto;}#sk-container-id-1 input.sk-toggleable__control:checked~label.sk-toggleable__label-arrow:before {content: \"▾\";}#sk-container-id-1 div.sk-estimator input.sk-toggleable__control:checked~label.sk-toggleable__label {background-color: #d4ebff;}#sk-container-id-1 div.sk-label input.sk-toggleable__control:checked~label.sk-toggleable__label {background-color: #d4ebff;}#sk-container-id-1 input.sk-hidden--visually {border: 0;clip: rect(1px 1px 1px 1px);clip: rect(1px, 1px, 1px, 1px);height: 1px;margin: -1px;overflow: hidden;padding: 0;position: absolute;width: 1px;}#sk-container-id-1 div.sk-estimator {font-family: monospace;background-color: #f0f8ff;border: 1px dotted black;border-radius: 0.25em;box-sizing: border-box;margin-bottom: 0.5em;}#sk-container-id-1 div.sk-estimator:hover {background-color: #d4ebff;}#sk-container-id-1 div.sk-parallel-item::after {content: \"\";width: 100%;border-bottom: 1px solid gray;flex-grow: 1;}#sk-container-id-1 div.sk-label:hover label.sk-toggleable__label {background-color: #d4ebff;}#sk-container-id-1 div.sk-serial::before {content: \"\";position: absolute;border-left: 1px solid gray;box-sizing: border-box;top: 0;bottom: 0;left: 50%;z-index: 0;}#sk-container-id-1 div.sk-serial {display: flex;flex-direction: column;align-items: center;background-color: white;padding-right: 0.2em;padding-left: 0.2em;position: relative;}#sk-container-id-1 div.sk-item {position: relative;z-index: 1;}#sk-container-id-1 div.sk-parallel {display: flex;align-items: stretch;justify-content: center;background-color: white;position: relative;}#sk-container-id-1 div.sk-item::before, #sk-container-id-1 div.sk-parallel-item::before {content: \"\";position: absolute;border-left: 1px solid gray;box-sizing: border-box;top: 0;bottom: 0;left: 50%;z-index: -1;}#sk-container-id-1 div.sk-parallel-item {display: flex;flex-direction: column;z-index: 1;position: relative;background-color: white;}#sk-container-id-1 div.sk-parallel-item:first-child::after {align-self: flex-end;width: 50%;}#sk-container-id-1 div.sk-parallel-item:last-child::after {align-self: flex-start;width: 50%;}#sk-container-id-1 div.sk-parallel-item:only-child::after {width: 0;}#sk-container-id-1 div.sk-dashed-wrapped {border: 1px dashed gray;margin: 0 0.4em 0.5em 0.4em;box-sizing: border-box;padding-bottom: 0.4em;background-color: white;}#sk-container-id-1 div.sk-label label {font-family: monospace;font-weight: bold;display: inline-block;line-height: 1.2em;}#sk-container-id-1 div.sk-label-container {text-align: center;}#sk-container-id-1 div.sk-container {/* jupyter's `normalize.less` sets `[hidden] { display: none; }` but bootstrap.min.css set `[hidden] { display: none !important; }` so we also need the `!important` here to be able to override the default hidden behavior on the sphinx rendered scikit-learn.org. See: https://github.com/scikit-learn/scikit-learn/issues/21755 */display: inline-block !important;position: relative;}#sk-container-id-1 div.sk-text-repr-fallback {display: none;}</style><div id=\"sk-container-id-1\" class=\"sk-top-container\"><div class=\"sk-text-repr-fallback\"><pre>GradientBoostingRegressor(alpha=0.8, learning_rate=0.05, n_estimators=200,\n",
       "                          random_state=42)</pre><b>In a Jupyter environment, please rerun this cell to show the HTML representation or trust the notebook. <br />On GitHub, the HTML representation is unable to render, please try loading this page with nbviewer.org.</b></div><div class=\"sk-container\" hidden><div class=\"sk-item\"><div class=\"sk-estimator sk-toggleable\"><input class=\"sk-toggleable__control sk-hidden--visually\" id=\"sk-estimator-id-1\" type=\"checkbox\" checked><label for=\"sk-estimator-id-1\" class=\"sk-toggleable__label sk-toggleable__label-arrow\">GradientBoostingRegressor</label><div class=\"sk-toggleable__content\"><pre>GradientBoostingRegressor(alpha=0.8, learning_rate=0.05, n_estimators=200,\n",
       "                          random_state=42)</pre></div></div></div></div></div>"
      ],
      "text/plain": [
       "GradientBoostingRegressor(alpha=0.8, learning_rate=0.05, n_estimators=200,\n",
       "                          random_state=42)"
      ]
     },
     "execution_count": 30,
     "metadata": {},
     "output_type": "execute_result"
    }
   ],
   "source": [
    "\n",
    "\n",
    "gbr = GradientBoostingRegressor(learning_rate=0.05, n_estimators=200,alpha=0.8, subsample=1.0, random_state=42)\n",
    "gbr.fit(X, Y)\n"
   ]
  },
  {
   "cell_type": "code",
   "execution_count": 31,
   "id": "968cc33d",
   "metadata": {
    "execution": {
     "iopub.execute_input": "2025-02-24T09:37:04.684656Z",
     "iopub.status.busy": "2025-02-24T09:37:04.684259Z",
     "iopub.status.idle": "2025-02-24T09:37:05.090417Z",
     "shell.execute_reply": "2025-02-24T09:37:05.088281Z"
    },
    "papermill": {
     "duration": 0.422091,
     "end_time": "2025-02-24T09:37:05.092988",
     "exception": false,
     "start_time": "2025-02-24T09:37:04.670897",
     "status": "completed"
    },
    "tags": []
   },
   "outputs": [
    {
     "data": {
      "text/plain": [
       "Brand                   6227\n",
       "Material                5613\n",
       "Size                    4381\n",
       "Compartments               0\n",
       "Laptop Compartment      4962\n",
       "Waterproof              4811\n",
       "Style                   5153\n",
       "Color                   6785\n",
       "Weight Capacity (kg)      77\n",
       "dtype: int64"
      ]
     },
     "execution_count": 31,
     "metadata": {},
     "output_type": "execute_result"
    }
   ],
   "source": [
    "test= pd.read_csv('/kaggle/input/playground-series-s5e2/test.csv', index_col='id')\n",
    "test.isna().sum()"
   ]
  },
  {
   "cell_type": "code",
   "execution_count": 32,
   "id": "7f04f31e",
   "metadata": {
    "execution": {
     "iopub.execute_input": "2025-02-24T09:37:05.119657Z",
     "iopub.status.busy": "2025-02-24T09:37:05.119215Z",
     "iopub.status.idle": "2025-02-24T09:37:05.204888Z",
     "shell.execute_reply": "2025-02-24T09:37:05.202986Z"
    },
    "papermill": {
     "duration": 0.102805,
     "end_time": "2025-02-24T09:37:05.207350",
     "exception": false,
     "start_time": "2025-02-24T09:37:05.104545",
     "status": "completed"
    },
    "tags": []
   },
   "outputs": [],
   "source": [
    "test= fill_na_values(test)"
   ]
  },
  {
   "cell_type": "code",
   "execution_count": 33,
   "id": "b532d0c2",
   "metadata": {
    "execution": {
     "iopub.execute_input": "2025-02-24T09:37:05.233724Z",
     "iopub.status.busy": "2025-02-24T09:37:05.233288Z",
     "iopub.status.idle": "2025-02-24T09:37:05.366416Z",
     "shell.execute_reply": "2025-02-24T09:37:05.365635Z"
    },
    "papermill": {
     "duration": 0.148722,
     "end_time": "2025-02-24T09:37:05.368162",
     "exception": false,
     "start_time": "2025-02-24T09:37:05.219440",
     "status": "completed"
    },
    "tags": []
   },
   "outputs": [],
   "source": [
    "test= encode_cat_cols(test)"
   ]
  },
  {
   "cell_type": "code",
   "execution_count": 34,
   "id": "4a458e03",
   "metadata": {
    "execution": {
     "iopub.execute_input": "2025-02-24T09:37:05.391519Z",
     "iopub.status.busy": "2025-02-24T09:37:05.391129Z",
     "iopub.status.idle": "2025-02-24T09:37:05.999003Z",
     "shell.execute_reply": "2025-02-24T09:37:05.997641Z"
    },
    "papermill": {
     "duration": 0.621893,
     "end_time": "2025-02-24T09:37:06.000919",
     "exception": false,
     "start_time": "2025-02-24T09:37:05.379026",
     "status": "completed"
    },
    "tags": []
   },
   "outputs": [],
   "source": [
    "y=gbr.predict(test)"
   ]
  },
  {
   "cell_type": "code",
   "execution_count": 35,
   "id": "d1fb8cb2",
   "metadata": {
    "execution": {
     "iopub.execute_input": "2025-02-24T09:37:06.026390Z",
     "iopub.status.busy": "2025-02-24T09:37:06.026011Z",
     "iopub.status.idle": "2025-02-24T09:37:06.031823Z",
     "shell.execute_reply": "2025-02-24T09:37:06.030638Z"
    },
    "papermill": {
     "duration": 0.020979,
     "end_time": "2025-02-24T09:37:06.033870",
     "exception": false,
     "start_time": "2025-02-24T09:37:06.012891",
     "status": "completed"
    },
    "tags": []
   },
   "outputs": [
    {
     "data": {
      "text/plain": [
       "array([81.31068524, 82.98201022, 81.88607661, ..., 82.62205299,\n",
       "       81.67140078, 81.75196313])"
      ]
     },
     "execution_count": 35,
     "metadata": {},
     "output_type": "execute_result"
    }
   ],
   "source": [
    "y"
   ]
  },
  {
   "cell_type": "code",
   "execution_count": 36,
   "id": "c106cf27",
   "metadata": {
    "execution": {
     "iopub.execute_input": "2025-02-24T09:37:06.060147Z",
     "iopub.status.busy": "2025-02-24T09:37:06.059784Z",
     "iopub.status.idle": "2025-02-24T09:37:07.104387Z",
     "shell.execute_reply": "2025-02-24T09:37:07.102334Z"
    },
    "papermill": {
     "duration": 1.059924,
     "end_time": "2025-02-24T09:37:07.106412",
     "exception": false,
     "start_time": "2025-02-24T09:37:06.046488",
     "status": "completed"
    },
    "tags": []
   },
   "outputs": [
    {
     "name": "stderr",
     "output_type": "stream",
     "text": [
      "/usr/local/lib/python3.10/dist-packages/seaborn/_oldcore.py:1119: FutureWarning: use_inf_as_na option is deprecated and will be removed in a future version. Convert inf values to NaN before operating instead.\n",
      "  with pd.option_context('mode.use_inf_as_na', True):\n"
     ]
    },
    {
     "data": {
      "text/plain": [
       "<Axes: ylabel='Density'>"
      ]
     },
     "execution_count": 36,
     "metadata": {},
     "output_type": "execute_result"
    },
    {
     "data": {
      "image/png": "[encoded data removed]",
      "text/plain": [
       "<Figure size 640x480 with 1 Axes>"
      ]
     },
     "metadata": {},
     "output_type": "display_data"
    }
   ],
   "source": [
    "sns.kdeplot(y)"
   ]
  },
  {
   "cell_type": "code",
   "execution_count": 37,
   "id": "1765dbb2",
   "metadata": {
    "execution": {
     "iopub.execute_input": "2025-02-24T09:37:07.133057Z",
     "iopub.status.busy": "2025-02-24T09:37:07.132700Z",
     "iopub.status.idle": "2025-02-24T09:37:07.139126Z",
     "shell.execute_reply": "2025-02-24T09:37:07.136677Z"
    },
    "papermill": {
     "duration": 0.023346,
     "end_time": "2025-02-24T09:37:07.141115",
     "exception": false,
     "start_time": "2025-02-24T09:37:07.117769",
     "status": "completed"
    },
    "tags": []
   },
   "outputs": [],
   "source": [
    "test['Price']=y"
   ]
  },
  {
   "cell_type": "code",
   "execution_count": 38,
   "id": "423b16d5",
   "metadata": {
    "execution": {
     "iopub.execute_input": "2025-02-24T09:37:07.165341Z",
     "iopub.status.busy": "2025-02-24T09:37:07.164993Z",
     "iopub.status.idle": "2025-02-24T09:37:07.174742Z",
     "shell.execute_reply": "2025-02-24T09:37:07.173721Z"
    },
    "papermill": {
     "duration": 0.023703,
     "end_time": "2025-02-24T09:37:07.176479",
     "exception": false,
     "start_time": "2025-02-24T09:37:07.152776",
     "status": "completed"
    },
    "tags": []
   },
   "outputs": [
    {
     "data": {
      "text/html": [
       "<div>\n",
       "<style scoped>\n",
       "    .dataframe tbody tr th:only-of-type {\n",
       "        vertical-align: middle;\n",
       "    }\n",
       "\n",
       "    .dataframe tbody tr th {\n",
       "        vertical-align: top;\n",
       "    }\n",
       "\n",
       "    .dataframe thead th {\n",
       "        text-align: right;\n",
       "    }\n",
       "</style>\n",
       "<table border=\"1\" class=\"dataframe\">\n",
       "  <thead>\n",
       "    <tr style=\"text-align: right;\">\n",
       "      <th></th>\n",
       "      <th>Price</th>\n",
       "    </tr>\n",
       "    <tr>\n",
       "      <th>id</th>\n",
       "      <th></th>\n",
       "    </tr>\n",
       "  </thead>\n",
       "  <tbody>\n",
       "    <tr>\n",
       "      <th>300000</th>\n",
       "      <td>81.31</td>\n",
       "    </tr>\n",
       "    <tr>\n",
       "      <th>300001</th>\n",
       "      <td>82.98</td>\n",
       "    </tr>\n",
       "    <tr>\n",
       "      <th>300002</th>\n",
       "      <td>81.89</td>\n",
       "    </tr>\n",
       "    <tr>\n",
       "      <th>300003</th>\n",
       "      <td>81.41</td>\n",
       "    </tr>\n",
       "    <tr>\n",
       "      <th>300004</th>\n",
       "      <td>79.73</td>\n",
       "    </tr>\n",
       "    <tr>\n",
       "      <th>...</th>\n",
       "      <td>...</td>\n",
       "    </tr>\n",
       "    <tr>\n",
       "      <th>499995</th>\n",
       "      <td>79.61</td>\n",
       "    </tr>\n",
       "    <tr>\n",
       "      <th>499996</th>\n",
       "      <td>77.76</td>\n",
       "    </tr>\n",
       "    <tr>\n",
       "      <th>499997</th>\n",
       "      <td>82.62</td>\n",
       "    </tr>\n",
       "    <tr>\n",
       "      <th>499998</th>\n",
       "      <td>81.67</td>\n",
       "    </tr>\n",
       "    <tr>\n",
       "      <th>499999</th>\n",
       "      <td>81.75</td>\n",
       "    </tr>\n",
       "  </tbody>\n",
       "</table>\n",
       "<p>200000 rows × 1 columns</p>\n",
       "</div>"
      ],
      "text/plain": [
       "        Price\n",
       "id           \n",
       "300000  81.31\n",
       "300001  82.98\n",
       "300002  81.89\n",
       "300003  81.41\n",
       "300004  79.73\n",
       "...       ...\n",
       "499995  79.61\n",
       "499996  77.76\n",
       "499997  82.62\n",
       "499998  81.67\n",
       "499999  81.75\n",
       "\n",
       "[200000 rows x 1 columns]"
      ]
     },
     "execution_count": 38,
     "metadata": {},
     "output_type": "execute_result"
    }
   ],
   "source": [
    "sub= test[['Price']]\n",
    "sub"
   ]
  },
  {
   "cell_type": "code",
   "execution_count": 39,
   "id": "7215c882",
   "metadata": {
    "execution": {
     "iopub.execute_input": "2025-02-24T09:37:07.200877Z",
     "iopub.status.busy": "2025-02-24T09:37:07.200478Z",
     "iopub.status.idle": "2025-02-24T09:37:07.444332Z",
     "shell.execute_reply": "2025-02-24T09:37:07.443418Z"
    },
    "papermill": {
     "duration": 0.257979,
     "end_time": "2025-02-24T09:37:07.446309",
     "exception": false,
     "start_time": "2025-02-24T09:37:07.188330",
     "status": "completed"
    },
    "tags": []
   },
   "outputs": [],
   "source": [
    "sub.to_csv('submission.csv')"
   ]
  }
 ],
 "metadata": {
  "kaggle": {
   "accelerator": "none",
   "dataSources": [
    {
     "databundleVersionId": 10995111,
     "sourceId": 90274,
     "sourceType": "competition"
    }
   ],
   "dockerImageVersionId": 30918,
   "isGpuEnabled": false,
   "isInternetEnabled": true,
   "language": "python",
   "sourceType": "notebook"
  },
  "kernelspec": {
   "display_name": "Python 3",
   "language": "python",
   "name": "python3"
  },
  "language_info": {
   "codemirror_mode": {
    "name": "ipython",
    "version": 3
   },
   "file_extension": ".py",
   "mimetype": "text/x-python",
   "name": "python",
   "nbconvert_exporter": "python",
   "pygments_lexer": "ipython3",
   "version": "3.10.12"
  },
  "papermill": {
   "default_parameters": {},
   "duration": 1675.704306,
   "end_time": "2025-02-24T09:37:08.582477",
   "environment_variables": {},
   "exception": null,
   "input_path": "__notebook__.ipynb",
   "output_path": "__notebook__.ipynb",
   "parameters": {},
   "start_time": "2025-02-24T09:09:12.878171",
   "version": "2.6.0"
  }
 },
 "nbformat": 4,
 "nbformat_minor": 5
}
